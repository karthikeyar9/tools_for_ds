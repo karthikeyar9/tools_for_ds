{
 "cells": [
  {
   "cell_type": "markdown",
   "id": "c40a47f7",
   "metadata": {},
   "source": []
  },
  {
   "cell_type": "markdown",
   "id": "9da89697",
   "metadata": {},
   "source": [
    "# Data Science Tools and Ecosystem"
   ]
  },
  {
   "cell_type": "markdown",
   "id": "4a4616ca",
   "metadata": {},
   "source": [
    "In this notebook, Data Science Tools and Ecosystem are summarized."
   ]
  },
  {
   "cell_type": "markdown",
   "id": "a446db4a",
   "metadata": {},
   "source": [
    "Some of the popular languages that Data Scientists use are:\n",
    "1. Python\n",
    "2. R\n",
    "3. Javascript\n",
    "4. Java\n"
   ]
  },
  {
   "cell_type": "markdown",
   "id": "0b270b3e",
   "metadata": {},
   "source": [
    "**Objectives:**\n",
    "\n",
    "- List popular languages for Data Science.\n",
    "- Explore common libraries used in Data Science.\n",
    "- Discuss different development environments for Data Science.\n"
   ]
  },
  {
   "cell_type": "markdown",
   "id": "8c19687b",
   "metadata": {},
   "source": [
    "Some of the commonly used libraries used by Data Scientists include:\n",
    "1. Pandas: Used for data manipulation and analysis, providing data structures like DataFrame, Series, and tools for cleaning and processing data efficiently.\n",
    "\n",
    "2. NumPy: Essential for numerical computing in Python, providing support for arrays, matrices, and mathematical functions.\n",
    "\n",
    "3. Matplotlib: A versatile library for creating static, interactive, and publication-quality visualizations and plots.\n",
    "\n",
    "4. Seaborn: Built on top of Matplotlib, it offers a higher-level interface for creating attractive and informative statistical graphics.\n",
    "\n",
    "5. Scikit-learn: A comprehensive library for machine learning in Python, providing tools for classification, regression, clustering, dimensionality reduction, and more.\n",
    "\n",
    "6. TensorFlow / PyTorch: Deep learning frameworks used for building and training neural networks, suitable for tasks like computer vision, natural language processing, and more.\n"
   ]
  },
  {
   "cell_type": "markdown",
   "id": "a4138dc0",
   "metadata": {},
   "source": [
    "| Data Science Tools |\n",
    "|--------------------|\n",
    "| Jupyter Notebook |\n",
    "| R Studio |\n",
    "| Anaconda  |\n",
    "| VS Code |"
   ]
  },
  {
   "cell_type": "markdown",
   "id": "dc6eb73b",
   "metadata": {},
   "source": [
    " ### Below are a few examples of evaluating arithmetic expressions in Python\n",
    "2+3\n",
    "2*3\n",
    "2*(2+3)"
   ]
  },
  {
   "cell_type": "code",
   "execution_count": 5,
   "id": "353049a5",
   "metadata": {},
   "outputs": [
    {
     "data": {
      "text/plain": [
       "17"
      ]
     },
     "execution_count": 5,
     "metadata": {},
     "output_type": "execute_result"
    }
   ],
   "source": [
    "# This is a simple arithmetic expression to multiply 3 by 4 and then add 5.\n",
    "result = (3 * 4) + 5\n",
    "result"
   ]
  },
  {
   "cell_type": "code",
   "execution_count": 6,
   "id": "ce4c42b0",
   "metadata": {},
   "outputs": [
    {
     "data": {
      "text/plain": [
       "3.3333333333333335"
      ]
     },
     "execution_count": 6,
     "metadata": {},
     "output_type": "execute_result"
    }
   ],
   "source": [
    "# This will convert 200 minutes to hours by dividing by 60.\n",
    "minutes = 200\n",
    "hours = minutes / 60\n",
    "hours"
   ]
  },
  {
   "cell_type": "markdown",
   "id": "1b8394e2",
   "metadata": {},
   "source": [
    "## Author\n",
    "Karthikeya Mekala"
   ]
  },
  {
   "cell_type": "code",
   "execution_count": null,
   "id": "4e02b9bc",
   "metadata": {},
   "outputs": [],
   "source": []
  }
 ],
 "metadata": {
  "kernelspec": {
   "display_name": "Python 3 (ipykernel)",
   "language": "python",
   "name": "python3"
  },
  "language_info": {
   "codemirror_mode": {
    "name": "ipython",
    "version": 3
   },
   "file_extension": ".py",
   "mimetype": "text/x-python",
   "name": "python",
   "nbconvert_exporter": "python",
   "pygments_lexer": "ipython3",
   "version": "3.11.5"
  }
 },
 "nbformat": 4,
 "nbformat_minor": 5
}
